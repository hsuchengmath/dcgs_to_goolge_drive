{
 "cells": [
  {
   "cell_type": "code",
   "execution_count": 56,
   "metadata": {},
   "outputs": [],
   "source": [
    "import numpy as np\n",
    "import pandas as pd\n",
    "from object_orient_for_JL.data_process_mat import Data_Process\n",
    "from object_orient_for_JL.util import transform_date_to_age, train_model, predict_score, random_model_performance, ROC_curve_plot , DET_curve_plot"
   ]
  },
  {
   "cell_type": "code",
   "execution_count": 57,
   "metadata": {},
   "outputs": [
    {
     "name": "stderr",
     "output_type": "stream",
     "text": [
      "100%|██████████| 36787/36787 [00:34<00:00, 1068.69it/s]\n",
      "100%|██████████| 19086/19086 [00:43<00:00, 434.72it/s]\n",
      "/home/hsucheng/DCGS/tutorabc_dcgs_model/object_orient_for_JL/interest_tag_overlap_num.py:78: SettingWithCopyWarning: \n",
      "A value is trying to be set on a copy of a slice from a DataFrame.\n",
      "Try using .loc[row_indexer,col_indexer] = value instead\n",
      "\n",
      "See the caveats in the documentation: http://pandas.pydata.org/pandas-docs/stable/user_guide/indexing.html#returning-a-view-versus-a-copy\n",
      "  rating_data_with_UF['overlap_num'] = overlap_num\n"
     ]
    }
   ],
   "source": [
    "start_date = '2021-02-01'\n",
    "train_date = '2021-05-01'\n",
    "end_date = '2021-06-01'\n",
    "data_process_obj = Data_Process(start_date, train_date, end_date)\n",
    "data_process_obj.main()"
   ]
  },
  {
   "cell_type": "code",
   "execution_count": 58,
   "metadata": {},
   "outputs": [],
   "source": [
    "label_AD = data_process_obj.label_AD\n",
    "label_Jr = data_process_obj.label_Jr\n",
    "ground_truth_AD = data_process_obj.ground_truth_AD\n",
    "ground_truth_Jr = data_process_obj.ground_truth_Jr\n",
    "train_data_AD_wo_label = data_process_obj.train_data_AD_wo_label\n",
    "train_data_Jr_wo_label = data_process_obj.train_data_Jr_wo_label\n",
    "test_data_AD_wo_label = data_process_obj.test_data_AD_wo_label\n",
    "test_data_Jr_wo_label = data_process_obj.test_data_Jr_wo_label\n",
    "train_data_AD = data_process_obj.train_data_AD\n",
    "test_data_AD = data_process_obj.test_data_AD\n",
    "train_data_Jr = data_process_obj.train_data_Jr\n",
    "test_data_Jr = data_process_obj.test_data_Jr\n",
    "mat_individual_col = data_process_obj.mat_individual_col"
   ]
  },
  {
   "cell_type": "code",
   "execution_count": 59,
   "metadata": {},
   "outputs": [],
   "source": [
    "# train RF model\n",
    "model_AD = train_model(train_data=train_data_AD_wo_label, label=label_AD)\n",
    "model_Jr = train_model(train_data=train_data_Jr_wo_label, label=label_Jr)"
   ]
  },
  {
   "cell_type": "code",
   "execution_count": 60,
   "metadata": {},
   "outputs": [
    {
     "name": "stdout",
     "output_type": "stream",
     "text": [
      "              precision    recall  f1-score   support\n",
      "\n",
      "         0.0       0.69      0.67      0.68     13815\n",
      "         1.0       0.82      0.83      0.83     25050\n",
      "\n",
      "    accuracy                           0.77     38865\n",
      "   macro avg       0.75      0.75      0.75     38865\n",
      "weighted avg       0.77      0.77      0.77     38865\n",
      "\n",
      "---------------------------------------\n",
      "Confusion Matrix\n",
      "[[ 9200  4615]\n",
      " [ 4164 20886]]\n",
      "---------------------------------------\n",
      "positive label : 1 | negative label : 0\n"
     ]
    }
   ],
   "source": [
    "# eval of OUR (AD)\n",
    "test_data_AD_array = np.array(test_data_AD_wo_label)\n",
    "y_pred_AD = model_AD.predict(test_data_AD_array)\n",
    "predict_score(y_pred_AD,ground_truth_AD)"
   ]
  },
  {
   "cell_type": "code",
   "execution_count": 61,
   "metadata": {},
   "outputs": [
    {
     "name": "stdout",
     "output_type": "stream",
     "text": [
      "              precision    recall  f1-score   support\n",
      "\n",
      "         0.0       0.44      0.36      0.40     16221\n",
      "         1.0       0.71      0.78      0.74     32990\n",
      "\n",
      "    accuracy                           0.64     49211\n",
      "   macro avg       0.58      0.57      0.57     49211\n",
      "weighted avg       0.62      0.64      0.63     49211\n",
      "\n",
      "---------------------------------------\n",
      "Confusion Matrix\n",
      "[[ 5876 10345]\n",
      " [ 7331 25659]]\n",
      "---------------------------------------\n",
      "positive label : 1 | negative label : 0\n"
     ]
    }
   ],
   "source": [
    "# eval of OUR (Jr)\n",
    "test_data_Jr_array = np.array(test_data_Jr_wo_label)\n",
    "y_pred_Jr = model_Jr.predict(test_data_Jr_array)\n",
    "predict_score(y_pred_Jr,ground_truth_Jr)"
   ]
  },
  {
   "cell_type": "code",
   "execution_count": null,
   "metadata": {},
   "outputs": [],
   "source": []
  },
  {
   "cell_type": "code",
   "execution_count": null,
   "metadata": {},
   "outputs": [],
   "source": []
  },
  {
   "cell_type": "code",
   "execution_count": 62,
   "metadata": {},
   "outputs": [],
   "source": [
    "# data process of NCF model (AD)\n",
    "client_sn_train_AD = list(train_data_AD['client_sn'])\n",
    "mat_train_AD = list(train_data_AD['MaterialID'])\n",
    "client_sn_test_AD = list(test_data_AD['client_sn'])\n",
    "mat_test_AD = list(test_data_AD['MaterialID'])\n",
    "client_sn_AD = list(set(client_sn_train_AD))\n",
    "mat_AD = list(set(mat_train_AD))\n",
    "uid2index_AD, mat2index_AD, uid_index,mat_index = dict(), dict(),0,0\n",
    "for uid in client_sn_AD:\n",
    "    uid2index_AD[uid] = uid_index\n",
    "    uid_index +=1\n",
    "for mat in mat_AD:\n",
    "    mat2index_AD[mat] = mat_index\n",
    "    mat_index +=1\n",
    "client_sn_train_AD = [uid2index_AD[uid] for uid in client_sn_train_AD]\n",
    "mat_train_AD = [mat2index_AD[mat] for mat in mat_train_AD]\n",
    "label_train_AD = list(train_data_AD['label'])\n",
    "label_test_AD = list(test_data_AD['label'])\n",
    "user_num_AD = len(client_sn_AD)\n",
    "item_num_AD = len(mat_AD)"
   ]
  },
  {
   "cell_type": "code",
   "execution_count": 63,
   "metadata": {},
   "outputs": [],
   "source": [
    "# data process of NCF model (AD)\n",
    "client_sn_train_Jr = list(train_data_Jr['client_sn'])\n",
    "mat_train_Jr = list(train_data_Jr['MaterialID'])\n",
    "client_sn_test_Jr = list(test_data_Jr['client_sn'])\n",
    "mat_test_Jr = list(test_data_Jr['MaterialID'])\n",
    "client_sn_Jr = list(set(client_sn_train_Jr))\n",
    "mat_Jr = list(set(mat_train_Jr))\n",
    "uid2index_Jr, mat2index_Jr, uid_index,mat_index = dict(), dict(),0,0\n",
    "for uid in client_sn_Jr:\n",
    "    uid2index_Jr[uid] = uid_index\n",
    "    uid_index +=1\n",
    "for mat in mat_Jr:\n",
    "    mat2index_Jr[mat] = mat_index\n",
    "    mat_index +=1\n",
    "client_sn_train_Jr = [uid2index_Jr[uid] for uid in client_sn_train_Jr]\n",
    "mat_train_Jr = [mat2index_Jr[mat] for mat in mat_train_Jr]\n",
    "label_train_Jr = list(train_data_Jr['label'])\n",
    "label_test_Jr = list(test_data_Jr['label'])\n",
    "user_num_Jr = len(client_sn_Jr)\n",
    "item_num_Jr = len(mat_Jr)"
   ]
  },
  {
   "cell_type": "code",
   "execution_count": 64,
   "metadata": {},
   "outputs": [],
   "source": [
    "import torch\n",
    "import torch.nn as nn\n",
    "import torch.nn.functional as F \n",
    "import torch.optim as optim\n",
    "from tqdm import tqdm\n",
    "\n",
    "\n",
    "\n",
    "\n",
    "class NGCF(nn.Module):\n",
    "    def __init__(self, n_user, n_item, norm_adj):\n",
    "        super(NGCF, self).__init__()\n",
    "        self.n_user = n_user\n",
    "        self.n_item = n_item\n",
    "        self.emb_size = 64 #(?)\n",
    "        self.node_dropout = 0.1\n",
    "        head_num = 3\n",
    "        self.mess_dropout = [0.1 for _ in range(head_num)]\n",
    "        self.norm_adj = norm_adj\n",
    "        self.layers = [self.emb_size for _ in range(head_num)]\n",
    "        self.decay = eval('[1e-5]')[0]\n",
    "        self.embedding_dict, self.weight_dict = self.init_weight()\n",
    "        self.sparse_norm_adj = self._convert_sp_mat_to_sp_tensor(self.norm_adj).cuda()\n",
    "        self.predict_layer = nn.Linear((self.emb_size*4), 1).cuda()\n",
    "\n",
    "    def init_weight(self):\n",
    "        # xavier init\n",
    "        initializer = nn.init.xavier_uniform_\n",
    "\n",
    "        embedding_dict = nn.ParameterDict({\n",
    "            'user_emb': nn.Parameter(initializer(torch.empty(self.n_user,\n",
    "                                                 self.emb_size))),\n",
    "            'item_emb': nn.Parameter(initializer(torch.empty(self.n_item,\n",
    "                                                 self.emb_size)))\n",
    "        })\n",
    "\n",
    "        weight_dict = nn.ParameterDict()\n",
    "        layers = [self.emb_size] + self.layers\n",
    "        for k in range(len(self.layers)):\n",
    "            weight_dict.update({'W_gc_%d'%k: nn.Parameter(initializer(torch.empty(layers[k],\n",
    "                                                                      layers[k+1])))})\n",
    "            weight_dict.update({'b_gc_%d'%k: nn.Parameter(initializer(torch.empty(1, layers[k+1])))})\n",
    "\n",
    "            weight_dict.update({'W_bi_%d'%k: nn.Parameter(initializer(torch.empty(layers[k],\n",
    "                                                                      layers[k+1])))})\n",
    "            weight_dict.update({'b_bi_%d'%k: nn.Parameter(initializer(torch.empty(1, layers[k+1])))})\n",
    "\n",
    "        return embedding_dict, weight_dict\n",
    "\n",
    "    def _convert_sp_mat_to_sp_tensor(self, X):\n",
    "        coo = X.tocoo()\n",
    "        i = torch.LongTensor([coo.row, coo.col])\n",
    "        v = torch.from_numpy(coo.data).float()\n",
    "        return torch.sparse.FloatTensor(i, v, coo.shape)\n",
    "\n",
    "    def sparse_dropout(self, x, rate, noise_shape):\n",
    "        random_tensor = 1 - rate\n",
    "        random_tensor += torch.rand(noise_shape).to(x.device)\n",
    "        dropout_mask = torch.floor(random_tensor).type(torch.bool)\n",
    "        i = x._indices()\n",
    "        v = x._values()\n",
    "        i = i[:, dropout_mask]\n",
    "        v = v[dropout_mask]\n",
    "        out = torch.sparse.FloatTensor(i, v, x.shape).to(x.device)\n",
    "        return out * (1. / (1 - rate))\n",
    "\n",
    "    def rating(self, u_g_embeddings, pos_i_g_embeddings):\n",
    "        return torch.matmul(u_g_embeddings, pos_i_g_embeddings.t())\n",
    "\n",
    "    def forward(self, users, items, drop_flag=True):\n",
    "        A_hat = self.sparse_dropout(self.sparse_norm_adj,\n",
    "                                    self.node_dropout,\n",
    "                                    self.sparse_norm_adj._nnz()) if drop_flag else self.sparse_norm_adj\n",
    "        ego_embeddings = torch.cat([self.embedding_dict['user_emb'],\n",
    "                                    self.embedding_dict['item_emb']], 0)\n",
    "        all_embeddings = [ego_embeddings]\n",
    "        for k in range(len(self.layers)):\n",
    "            side_embeddings = torch.sparse.mm(A_hat, ego_embeddings)\n",
    "            # transformed sum messages of neighbors.\n",
    "            sum_embeddings = torch.matmul(side_embeddings, self.weight_dict['W_gc_%d' % k]) \\\n",
    "                                             + self.weight_dict['b_gc_%d' % k]\n",
    "            # bi messages of neighbors.\n",
    "            # element-wise product\n",
    "            bi_embeddings = torch.mul(ego_embeddings, side_embeddings)\n",
    "            # transformed bi messages of neighbors.\n",
    "            bi_embeddings = torch.matmul(bi_embeddings, self.weight_dict['W_bi_%d' % k]) \\\n",
    "                                            + self.weight_dict['b_bi_%d' % k]\n",
    "            # non-linear activation.\n",
    "            ego_embeddings = nn.LeakyReLU(negative_slope=0.2)(sum_embeddings + bi_embeddings)\n",
    "            # message dropout.\n",
    "            ego_embeddings = nn.Dropout(self.mess_dropout[k])(ego_embeddings)\n",
    "            # normalize the distribution of embeddings.\n",
    "            norm_embeddings = F.normalize(ego_embeddings, p=2, dim=1)\n",
    "            all_embeddings += [norm_embeddings]\n",
    "        #look up\n",
    "        all_embeddings = torch.cat(all_embeddings, 1)\n",
    "        u_g_embeddings = all_embeddings[:self.n_user, :]\n",
    "        i_g_embeddings = all_embeddings[self.n_user:, :]  \n",
    "        u_g_embeddings = u_g_embeddings[users, :]\n",
    "        i_g_embeddings = i_g_embeddings[items, :]\n",
    "        # interaction\n",
    "        pair_emb = u_g_embeddings * i_g_embeddings\n",
    "        prediction = self.predict_layer(pair_emb)\n",
    "        return torch.sigmoid(prediction.view(-1))\n",
    "\n",
    "class NGCF_Modeling:\n",
    "    def __init__(self, n_user, n_item, norm_adj):\n",
    "        lr = 0.001\n",
    "        self.epochs = 20\n",
    "        self.batch_size = 1024\n",
    "        # model\n",
    "        self.model = NGCF(n_user, n_item, norm_adj).cuda()\n",
    "        # build loss func and opt\n",
    "        self.loss_function = nn.BCEWithLogitsLoss() \n",
    "        self.optimizer = optim.Adam(self.model.parameters(), lr=lr)\n",
    "\n",
    "    \n",
    "    def train(self, train_user, train_item, train_label):\n",
    "        print('Start to train NCF model!!')\n",
    "        batch_num = int(len(train_label) / self.batch_size) + 1\n",
    "        for epoch in tqdm(range(self.epochs)):\n",
    "            self.model.train()\n",
    "            for i in range(batch_num):\n",
    "                user = train_user[i*self.batch_size : (i+1)*self.batch_size]\n",
    "                item = train_item[i*self.batch_size : (i+1)*self.batch_size]\n",
    "                label = torch.tensor(train_label[i*self.batch_size : (i+1)*self.batch_size]).float().cuda()\n",
    "                self.model.zero_grad()\n",
    "                prediction = self.model(user, item)  # shape=(256,) | Real number\n",
    "                loss = self.loss_function(prediction, label)\n",
    "                loss.backward()\n",
    "                self.optimizer.step()\n",
    "        print('Finish training model!!')  \n",
    "\n",
    "      \n",
    "    def recommend(self, user, item, uid2index ,mat2index, rf_model, test_data):\n",
    "        non_cold_start_user, non_cold_start_item, non_cold_start_index = list(), list(), list()\n",
    "        cold_start_user, cold_start_item, cold_start_index = list(), list(), list()\n",
    "        for i in range(len(user)):\n",
    "            if user[i] in uid2index and item[i] in mat2index:\n",
    "                non_cold_start_user.append(uid2index[user[i]])\n",
    "                non_cold_start_item.append(mat2index[item[i]])\n",
    "                non_cold_start_index.append(i)\n",
    "            else:\n",
    "                cold_start_user.append(user[i])\n",
    "                cold_start_item.append(item[i])  \n",
    "                cold_start_index.append(i)\n",
    "        # non_cold_start part \n",
    "        non_cold_start_pred = list(self.model(non_cold_start_user, non_cold_start_item).cpu().detach().numpy())\n",
    "        # cold_start part\n",
    "        cold_start_pred = list()\n",
    "        for i in range(len(cold_start_user)):\n",
    "            dat = test_data[(test_data['client_sn']==cold_start_user[i]) & (test_data['MaterialID']==cold_start_item[i])]\n",
    "            dat = np.array(dat)\n",
    "            predictions = rf_model.predict(dat)\n",
    "            predictions = predictions[0]   \n",
    "            cold_start_pred.append(predictions)\n",
    "        # intergrate\n",
    "        predictions_list = list()\n",
    "        for i in range(len(non_cold_start_pred)):\n",
    "            predictions_list.append([non_cold_start_pred[i], non_cold_start_index[i]])\n",
    "        for i in range(len(cold_start_pred)):\n",
    "            predictions_list.append([cold_start_pred[i], cold_start_index[i]])\n",
    "        predictions_list = sorted(predictions_list, key=lambda x:x[1])\n",
    "        predictions_list = [element[0] for element in predictions_list]\n",
    "        predictions = np.array(predictions_list)\n",
    "        del self.model\n",
    "        return predictions "
   ]
  },
  {
   "cell_type": "code",
   "execution_count": null,
   "metadata": {},
   "outputs": [],
   "source": []
  },
  {
   "cell_type": "code",
   "execution_count": null,
   "metadata": {},
   "outputs": [],
   "source": []
  },
  {
   "cell_type": "code",
   "execution_count": 65,
   "metadata": {},
   "outputs": [],
   "source": [
    "from object_orient_for_JL.adj_matx_generator import Adj_Matx_Generator\n",
    "amg_obj = Adj_Matx_Generator(user_num_AD, item_num_AD, [client_sn_train_AD, mat_train_AD])\n",
    "onehot_adj,norm_adj,normalized_adj = amg_obj.main()\n",
    "norm_adj = normalized_adj"
   ]
  },
  {
   "cell_type": "code",
   "execution_count": 66,
   "metadata": {},
   "outputs": [
    {
     "name": "stderr",
     "output_type": "stream",
     "text": [
      "  0%|          | 0/20 [00:00<?, ?it/s]"
     ]
    },
    {
     "name": "stdout",
     "output_type": "stream",
     "text": [
      "Start to train NCF model!!\n"
     ]
    },
    {
     "name": "stderr",
     "output_type": "stream",
     "text": [
      "100%|██████████| 20/20 [00:31<00:00,  1.59s/it]"
     ]
    },
    {
     "name": "stdout",
     "output_type": "stream",
     "text": [
      "Finish training model!!\n"
     ]
    },
    {
     "name": "stderr",
     "output_type": "stream",
     "text": [
      "\n"
     ]
    }
   ],
   "source": [
    "# train NCF model (AD)\n",
    "import os\n",
    "os.environ['CUDA_LAUNCH_BLOCKING'] = '1'\n",
    "ngcf_obj = NGCF_Modeling(user_num_AD, item_num_AD,norm_adj)\n",
    "ngcf_obj.train(client_sn_train_AD, mat_train_AD, label_train_AD)"
   ]
  },
  {
   "cell_type": "code",
   "execution_count": 67,
   "metadata": {},
   "outputs": [],
   "source": [
    "# eval (AD)\n",
    "y_pred_AD = ngcf_obj.recommend(client_sn_test_AD, mat_test_AD,uid2index_AD ,mat2index_AD, model_AD, test_data_AD_wo_label)\n",
    "ground_truth_AD = np.array(label_test_AD)"
   ]
  },
  {
   "cell_type": "code",
   "execution_count": 68,
   "metadata": {},
   "outputs": [
    {
     "name": "stdout",
     "output_type": "stream",
     "text": [
      "              precision    recall  f1-score   support\n",
      "\n",
      "         0.0       0.62      0.75      0.68     13815\n",
      "         1.0       0.84      0.75      0.79     25050\n",
      "\n",
      "    accuracy                           0.75     38865\n",
      "   macro avg       0.73      0.75      0.74     38865\n",
      "weighted avg       0.76      0.75      0.75     38865\n",
      "\n",
      "---------------------------------------\n",
      "Confusion Matrix\n",
      "[[10347  3468]\n",
      " [ 6301 18749]]\n",
      "---------------------------------------\n",
      "positive label : 1 | negative label : 0\n"
     ]
    }
   ],
   "source": [
    "predict_score(y_pred_AD,ground_truth_AD,0.5)"
   ]
  },
  {
   "cell_type": "code",
   "execution_count": 69,
   "metadata": {},
   "outputs": [
    {
     "data": {
      "image/png": "[encoded data removed]",
      "text/plain": [
       "<Figure size 432x288 with 1 Axes>"
      ]
     },
     "metadata": {
      "needs_background": "light"
     },
     "output_type": "display_data"
    }
   ],
   "source": [
    "y_with_pred_list = [(ground_truth_AD, y_pred_AD)]\n",
    "model_name_list = ['NCF']\n",
    "model_color_list = ['crimson']\n",
    "ROC_curve_plot(y_with_pred_list, model_name_list, model_color_list)"
   ]
  },
  {
   "cell_type": "code",
   "execution_count": null,
   "metadata": {},
   "outputs": [],
   "source": []
  },
  {
   "cell_type": "code",
   "execution_count": 70,
   "metadata": {},
   "outputs": [],
   "source": [
    "# 0.81/0.74/0.77/0.73 (AD)\n",
    "# 0.81/0.75/0.78/0.73 (AD)\n",
    "# 0.82/0.73/0.77/0.73 (AD)\n",
    "# 0.80/0.75/0.78/0.73\n",
    "# modeling : epoch : 10,20,30,40"
   ]
  },
  {
   "cell_type": "code",
   "execution_count": 71,
   "metadata": {},
   "outputs": [],
   "source": [
    "from object_orient_for_JL.adj_matx_generator import Adj_Matx_Generator\n",
    "amg_obj = Adj_Matx_Generator(user_num_Jr, item_num_Jr, [client_sn_train_Jr, mat_train_Jr])\n",
    "onehot_adj,norm_adj,normalized_adj = amg_obj.main()\n",
    "norm_adj = normalized_adj"
   ]
  },
  {
   "cell_type": "code",
   "execution_count": 72,
   "metadata": {},
   "outputs": [
    {
     "name": "stderr",
     "output_type": "stream",
     "text": [
      "  0%|          | 0/20 [00:00<?, ?it/s]"
     ]
    },
    {
     "name": "stdout",
     "output_type": "stream",
     "text": [
      "Start to train NCF model!!\n"
     ]
    },
    {
     "name": "stderr",
     "output_type": "stream",
     "text": [
      "100%|██████████| 20/20 [00:42<00:00,  2.11s/it]"
     ]
    },
    {
     "name": "stdout",
     "output_type": "stream",
     "text": [
      "Finish training model!!\n"
     ]
    },
    {
     "name": "stderr",
     "output_type": "stream",
     "text": [
      "\n"
     ]
    }
   ],
   "source": [
    "# train NCF model (Jr)\n",
    "import os\n",
    "os.environ['CUDA_LAUNCH_BLOCKING'] = '1'\n",
    "ngcf_obj = NGCF_Modeling(user_num_Jr, item_num_Jr,norm_adj)\n",
    "ngcf_obj.train(client_sn_train_Jr, mat_train_Jr, label_train_Jr)"
   ]
  },
  {
   "cell_type": "code",
   "execution_count": 73,
   "metadata": {},
   "outputs": [],
   "source": [
    "# eval (Jr)\n",
    "y_pred_Jr = ngcf_obj.recommend(client_sn_test_Jr, mat_test_Jr,uid2index_Jr ,mat2index_Jr, model_Jr, test_data_Jr_wo_label)\n",
    "ground_truth_Jr = np.array(label_test_Jr)"
   ]
  },
  {
   "cell_type": "code",
   "execution_count": 74,
   "metadata": {},
   "outputs": [
    {
     "name": "stdout",
     "output_type": "stream",
     "text": [
      "              precision    recall  f1-score   support\n",
      "\n",
      "         0.0       0.59      0.68      0.63     16221\n",
      "         1.0       0.83      0.77      0.80     32990\n",
      "\n",
      "    accuracy                           0.74     49211\n",
      "   macro avg       0.71      0.72      0.71     49211\n",
      "weighted avg       0.75      0.74      0.74     49211\n",
      "\n",
      "---------------------------------------\n",
      "Confusion Matrix\n",
      "[[10963  5258]\n",
      " [ 7680 25310]]\n",
      "---------------------------------------\n",
      "positive label : 1 | negative label : 0\n"
     ]
    }
   ],
   "source": [
    "predict_score(y_pred_Jr,ground_truth_Jr,0.5)"
   ]
  },
  {
   "cell_type": "code",
   "execution_count": 75,
   "metadata": {},
   "outputs": [],
   "source": [
    "# 0.81/0.75/0.78/0.72 (Jr)\n",
    "# 0.83/0.75/0.79/0.73\n",
    "# 0.82/0.75/0.79/0.73\n",
    "# 0.81/0.77/0.79/0.73\n",
    "# modeling : epoch : 10,20,30,40"
   ]
  },
  {
   "cell_type": "code",
   "execution_count": 76,
   "metadata": {},
   "outputs": [
    {
     "data": {
      "image/png": "[encoded data removed]",
      "text/plain": [
       "<Figure size 432x288 with 1 Axes>"
      ]
     },
     "metadata": {
      "needs_background": "light"
     },
     "output_type": "display_data"
    }
   ],
   "source": [
    "y_with_pred_list = [(ground_truth_Jr, y_pred_Jr)]\n",
    "model_name_list = ['NCF']\n",
    "model_color_list = ['crimson']\n",
    "ROC_curve_plot(y_with_pred_list, model_name_list, model_color_list)"
   ]
  },
  {
   "cell_type": "code",
   "execution_count": null,
   "metadata": {},
   "outputs": [],
   "source": []
  },
  {
   "cell_type": "code",
   "execution_count": null,
   "metadata": {},
   "outputs": [],
   "source": []
  },
  {
   "cell_type": "code",
   "execution_count": null,
   "metadata": {},
   "outputs": [],
   "source": []
  },
  {
   "cell_type": "code",
   "execution_count": null,
   "metadata": {},
   "outputs": [],
   "source": []
  }
 ],
 "metadata": {
  "kernelspec": {
   "display_name": "Python 3",
   "language": "python",
   "name": "python3"
  },
  "language_info": {
   "codemirror_mode": {
    "name": "ipython",
    "version": 3
   },
   "file_extension": ".py",
   "mimetype": "text/x-python",
   "name": "python",
   "nbconvert_exporter": "python",
   "pygments_lexer": "ipython3",
   "version": "3.6.9"
  }
 },
 "nbformat": 4,
 "nbformat_minor": 4
}
